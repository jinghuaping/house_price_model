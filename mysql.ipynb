{
 "cells": [
  {
   "cell_type": "code",
   "execution_count": 1,
   "id": "e5e1ee69",
   "metadata": {},
   "outputs": [],
   "source": [
    "import mysql.connector\n",
    "import pandas as pd\n",
    "from sqlalchemy import create_engine"
   ]
  },
  {
   "cell_type": "code",
   "execution_count": 2,
   "id": "fae3cdc4",
   "metadata": {},
   "outputs": [],
   "source": [
    "# get user and password\n",
    "user = ''\n",
    "password = ''\n",
    "with open('../user.txt', 'r') as f:\n",
    "    user = f.readline().strip()\n",
    "    password = f.readline().strip()\n",
    "    f.close()"
   ]
  },
  {
   "cell_type": "code",
   "execution_count": 3,
   "id": "5dfb22dc",
   "metadata": {},
   "outputs": [
    {
     "name": "stdout",
     "output_type": "stream",
     "text": [
      "<mysql.connector.connection.MySQLConnection object at 0x7f7b729fc828>\n"
     ]
    }
   ],
   "source": [
    "# try to connect to mysql server\n",
    "mydb = mysql.connector.connect(\n",
    "  host=\"localhost\",\n",
    "  user=user,\n",
    "  password=password\n",
    ")\n",
    "\n",
    "print(mydb)"
   ]
  },
  {
   "cell_type": "code",
   "execution_count": 4,
   "id": "8a6557ea",
   "metadata": {},
   "outputs": [
    {
     "name": "stdout",
     "output_type": "stream",
     "text": [
      "('information_schema',)\n",
      "('mydatabase',)\n",
      "('mysql',)\n",
      "('performance_schema',)\n",
      "('sys',)\n",
      "database \"mydatabase\" exists: True\n"
     ]
    }
   ],
   "source": [
    "# check databases\n",
    "\n",
    "mycursor = mydb.cursor()\n",
    "\n",
    "# show database\n",
    "sql = \"SHOW DATABASES\"\n",
    "mycursor.execute(sql)\n",
    "\n",
    "database = 'mydatabase'\n",
    "exists = False\n",
    "for x in mycursor:\n",
    "    if database in x:\n",
    "        exists = True\n",
    "    print(x)\n",
    "print(f'database \"{database}\" exists: {exists}')"
   ]
  },
  {
   "cell_type": "code",
   "execution_count": 5,
   "id": "f891fdab",
   "metadata": {},
   "outputs": [],
   "source": [
    "# create database\n",
    "if not exists:\n",
    "    sql = f\"CREATE DATABASE {database}\"\n",
    "    mycursor.execute(sql)\n",
    "\n",
    "    # show database\n",
    "    sql = \"SHOW DATABASES\"\n",
    "    mycursor.execute(sql)\n",
    "\n",
    "    exists = False\n",
    "    for x in mycursor:\n",
    "        if database in x:\n",
    "            exists = True\n",
    "        print(x)\n",
    "    print(f'database \"{database}\" exists: {exists}')"
   ]
  },
  {
   "cell_type": "code",
   "execution_count": 6,
   "id": "98b2eb30",
   "metadata": {},
   "outputs": [],
   "source": [
    "# show table\n",
    "mydb = mysql.connector.connect(\n",
    "  host=\"localhost\",\n",
    "  user=user,\n",
    "  password=password,\n",
    "  database=database\n",
    ")\n",
    "\n",
    "table_train_name = 'house_train_data'\n",
    "table_train_exist = False\n",
    "table_test_name = 'house_test_data'\n",
    "table_test_exist = False\n",
    "\n",
    "mycursor = mydb.cursor()\n",
    "\n",
    "sql = \"SHOW TABLES\"\n",
    "mycursor.execute(sql)\n",
    "\n",
    "for x in mycursor:\n",
    "    if table_train_name in x:\n",
    "        table_train_exist = True\n",
    "    if table_test_name in x:\n",
    "        table_test_exist = True\n",
    "    print(x)"
   ]
  },
  {
   "cell_type": "code",
   "execution_count": 7,
   "id": "d211e255",
   "metadata": {},
   "outputs": [],
   "source": [
    "\"\"\"\n",
    "help functions to create mysql table\n",
    "\"\"\"\n",
    "\n",
    "'''\n",
    "Load a csv file into a dataframe; if csv does not have headers, use the headers arg to create a list of headers; rename unnamed columns to conform to mysql column requirements\n",
    "'''\n",
    "def csv_to_df(infile, headers = []):\n",
    "    if len(headers) == 0:\n",
    "        df = pd.read_csv(infile)\n",
    "    else:\n",
    "        df = pd.read_csv(infile, header = None)\n",
    "        df.columns = headers\n",
    "    for r in range(10):\n",
    "        try:\n",
    "            df.rename( columns={'Unnamed: {0}'.format(r):'Unnamed{0}'.format(r)},    inplace=True )\n",
    "        except:\n",
    "            pass\n",
    "    return df\n",
    "\n",
    "'''\n",
    "Create a mapping of df dtypes to mysql data types (not perfect, but close enough)\n",
    "'''\n",
    "def dtype_mapping():\n",
    "    return {'object' : 'TEXT',\n",
    "        'int64' : 'INT',\n",
    "        'float64' : 'FLOAT',\n",
    "        'datetime64' : 'DATETIME',\n",
    "        'bool' : 'TINYINT',\n",
    "        'category' : 'TEXT',\n",
    "        'timedelta[ns]' : 'TEXT'}\n",
    "'''\n",
    "Create a sqlalchemy engine\n",
    "'''\n",
    "def mysql_engine(user = 'root', password = 'abc', host = '127.0.0.1', port = '3306', database = 'mydatabase'):\n",
    "    engine = create_engine(f'mysql+mysqlconnector://{user}:{password}@{host}:{port}/{database}', echo=False)\n",
    "    return engine\n",
    "\n",
    "'''\n",
    "Create a mysql connection from sqlalchemy engine\n",
    "'''\n",
    "def mysql_conn(engine):\n",
    "    conn = engine.raw_connection()\n",
    "    return conn\n",
    "'''\n",
    "Create sql input for table names and types\n",
    "'''\n",
    "def gen_tbl_cols_sql(df):\n",
    "    dmap = dtype_mapping()\n",
    "    sql = \"pi_db_uid INT AUTO_INCREMENT PRIMARY KEY\"\n",
    "    df1 = df.rename(columns = {\"\" : \"nocolname\"})\n",
    "    hdrs = df1.dtypes.index\n",
    "    hdrs_list = [(hdr, str(df1[hdr].dtype)) for hdr in hdrs]\n",
    "    for i, hl in enumerate(hdrs_list):\n",
    "        sql += \" ,{0} {1}\".format(hl[0], dmap[hl[1]])\n",
    "    return sql\n",
    "\n",
    "'''\n",
    "Create a mysql table from a df\n",
    "'''\n",
    "def create_mysql_tbl_schema(df, conn, db, tbl_name):\n",
    "    tbl_cols_sql = gen_tbl_cols_sql(df)\n",
    "    sql = \"USE {0}; CREATE TABLE {1} ({2})\".format(db, tbl_name, tbl_cols_sql)\n",
    "    cur = conn.cursor()\n",
    "    cur.execute(sql, multi=True)\n",
    "    cur.close()\n",
    "    conn.commit()\n",
    "\n",
    "'''\n",
    "Write df data to newly create mysql table\n",
    "'''\n",
    "def df_to_mysql(df, engine, tbl_name):\n",
    "    df.to_sql(tbl_name, engine, if_exists='replace')\n",
    "\n",
    "\n",
    "'''\n",
    "Create tables from dataframe\n",
    "'''\n",
    "def create_table(infile, user, password, database, table_name):\n",
    "    df = csv_to_df(infile)\n",
    "    engine = mysql_engine(user=user,password=password,database=database)\n",
    "    create_mysql_tbl_schema(df, mysql_conn(engine), database, table_name)\n",
    "    df_to_mysql(df, engine, table_name)"
   ]
  },
  {
   "cell_type": "code",
   "execution_count": 8,
   "id": "97ba26a4",
   "metadata": {},
   "outputs": [],
   "source": [
    "# create table\n",
    "\n",
    "if not table_train_exist:\n",
    "    infile = './kaggle-house-prices/train.csv'\n",
    "    create_table(infile, user, password, database, table_train_name)\n",
    "\n",
    "if not table_test_exist:\n",
    "    infile = './kaggle-house-prices/test.csv'\n",
    "    create_table(infile, user, password, database, table_test_name)\n"
   ]
  },
  {
   "cell_type": "code",
   "execution_count": null,
   "id": "1d85ec86",
   "metadata": {},
   "outputs": [],
   "source": []
  }
 ],
 "metadata": {
  "kernelspec": {
   "display_name": "Python 3 (ipykernel)",
   "language": "python",
   "name": "python3"
  },
  "language_info": {
   "codemirror_mode": {
    "name": "ipython",
    "version": 3
   },
   "file_extension": ".py",
   "mimetype": "text/x-python",
   "name": "python",
   "nbconvert_exporter": "python",
   "pygments_lexer": "ipython3",
   "version": "3.7.0"
  }
 },
 "nbformat": 4,
 "nbformat_minor": 5
}
